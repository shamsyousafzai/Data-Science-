{
 "cells": [
  {
   "cell_type": "code",
   "execution_count": 12,
   "metadata": {},
   "outputs": [],
   "source": [
    "from tkinter import *\n",
    "    "
   ]
  },
  {
   "cell_type": "code",
   "execution_count": 13,
   "metadata": {},
   "outputs": [],
   "source": [
    "from tkinter import ttk"
   ]
  },
  {
   "cell_type": "code",
   "execution_count": 14,
   "metadata": {},
   "outputs": [],
   "source": [
    "import tkinter\n",
    "import tkinter.messagebox"
   ]
  },
  {
   "cell_type": "code",
   "execution_count": 15,
   "metadata": {},
   "outputs": [],
   "source": [
    "# from ttk import *"
   ]
  },
  {
   "cell_type": "code",
   "execution_count": 16,
   "metadata": {},
   "outputs": [],
   "source": [
    "import sqlite3"
   ]
  },
  {
   "cell_type": "code",
   "execution_count": 17,
   "metadata": {},
   "outputs": [],
   "source": [
    "con=sqlite3.Connection('hrdb')\n",
    "rootp=Tk()\n",
    "Label(rootp,text=\"Simple Airline Booking System\",font=\"Bold 20\").pack()"
   ]
  },
  {
   "cell_type": "code",
   "execution_count": 18,
   "metadata": {},
   "outputs": [],
   "source": [
    "def fun8():\n",
    "    rootp.destroy()\n",
    "    root2=Tk()\n",
    "    root2.title(\"Welcome,Customer To our Cancellation System\")\n",
    "    Label(root2,text=\"Enter last 4 digit of your Citizenship Number\").grid(row=0,column=0)\n",
    "    e1=Entry(root2)\n",
    "    e1.grid(row=0,column=1)\n",
    "    Label(root2,text=\"Choose your class\").grid(row=1,column=0)\n",
    "    w2=Combobox(root2,height=5,width=15,values=[\"BusinessClass\",\"Economic\"])\n",
    "    w2.grid(row=1,column=1)\n",
    "    Label(root2,text=\"select boarding\").grid(row=2,column=0)\n",
    "    w3=Combobox(root2,height=5,width=15,values=[\"New York\",\"Chicago\",\"Dallas\",\"San Francisco\"])\n",
    "    w3.grid(row=2,column=1)\n",
    "    def fun2():\n",
    "        d=e1.get()\n",
    "        b=w2.get()\n",
    "        c=w3.get()\n",
    "        cur=con.cursor()\n",
    "        x=str(d)\n",
    "        y=str(c)\n",
    "        con.commit()\n",
    "        if d=='' or b=='' or c=='':\n",
    "             tkMessageBox.showerror(\"Oops\",\"You can't Enter the leave any field empty\")\n",
    "        else:     \n",
    "             if b==\"economic\":\n",
    "                cur.execute(\"delete from economic2 where adno=(?) and boarding=(?)\",(d,b,))\n",
    "                cur.execute(\"select * from economic2\")\n",
    "                tkMessageBox.showinfo(\"your reservation is cancelled\",cur.fetchall())\n",
    "             else:\n",
    "                    cur.execute(\"delete from common2 where adno=x and boarding=y\")\n",
    "                    cur.execute(\"select * from common2\")\n",
    "        \n",
    "                    \n",
    "            \n",
    "    Bc=Button(root2,text=\"Cancel Reservation\",command=fun2).grid(row=4,column=0)\n",
    "    root2.mainloop()"
   ]
  },
  {
   "cell_type": "code",
   "execution_count": 19,
   "metadata": {},
   "outputs": [],
   "source": [
    "\n",
    "\n",
    "def fun9():\n",
    "    rootp.destroy()\n",
    "    root4=Tk()\n",
    "    root4.title(\"Welcome,Search flights\")\n",
    "    Label(root4,text=\"Enter Boarding\").grid(row=0,column=0)\n",
    "    w1=Combobox(root4,height=5,width=15,values=[\"New York\",\"Chicago\",\"Dallas\",\"San Francisco\"])\n",
    "    w1.grid(row=0,column=1)\n",
    "    Label(root4,text=\"select destination\").grid(row=1,column=0)\n",
    "    w2=Combobox(root4,height=5,width=15,values=[\"New York\",\"Chicago\",\"Dallas\",\"San Francisco\"])\n",
    "    w2.grid(row=1,column=1)\n",
    "    Label(root4,text=\"Choose day of travel\").grid(row=2,column=0)\n",
    "    w3=Combobox(root4,text=\"choose day\",height=5,width=15,values=[\"sunday\",\"monday\",\"tuesday\",\"wensday\",\"thursday\",\"friday\",\"saturday\"])\n",
    "    w3.grid(row=2,column=1)\n",
    "    def fun10():\n",
    "        a=w1.get()\n",
    "        b=w2.get()\n",
    "        c=w3.get()\n",
    "        cur=con.cursor()\n",
    "        if a=='' or b=='' or c=='':\n",
    "            tkMessageBox.showerror(\"Error\",\"Cant leave any field empty\")\n",
    "           \n",
    "                \n",
    "        else:\n",
    "             if a!=b:\n",
    "                 #cur.execute(\"create table eco(boarding char(20),destination char(20),day char(20),time number,class char(10),fare number)\")\n",
    "                 cur.execute(\"insert into eco values('New York','Chicago','Sunday',1.00,'Economic',2500)\")\n",
    "                 cur.execute(\"insert into eco values('New York','Dallas','Monday',1.00,'Common',4000)\")\n",
    "                 cur.execute(\"insert into eco values('New York','San Francisco','Tuesday',1.00,'Economic',5500)\")\n",
    "                 cur.execute(\"insert into eco values('Chicago','New York','Wensday',1.00,'Economic',3500)\")\n",
    "                 cur.execute(\"insert into eco values('Chicago','New York','Wensday',7.00,'Common',2500)\")\n",
    "                 cur.execute(\"select * from eco where boarding=? and destination=? and day=?\",(a,b,c,))\n",
    "                 con.commit()\n",
    "                 e=cur.fetchall()\n",
    "                 tkMessageBox.showinfo(\"flights availble are\",e)\n",
    "             else:\n",
    "                tkMessageBox.showerror(\"Oops\",\"boarding and destination can't me same\")\n",
    "        \n",
    "    Bs=Button(root4,text=\"search\",command=fun10).grid(row=3,column=0)\n",
    "    root4.mainloop()"
   ]
  },
  {
   "cell_type": "code",
   "execution_count": null,
   "metadata": {},
   "outputs": [],
   "source": []
  },
  {
   "cell_type": "code",
   "execution_count": 20,
   "metadata": {},
   "outputs": [],
   "source": [
    "\n",
    "def fun5():\n",
    "    rootp.destroy()\n",
    "    root=Tk()\n",
    "    root.title('Flight search And booking')\n",
    "    Label(root,text=\"Enter Boarding\").grid(row=1,column=0)\n",
    "#e1=Entry(root,width=20,bd=4,justify=\"right\")\n",
    "#e1.grid(row=1,column=1)\n",
    "    w=Combobox(root,height=5,width=15,values=[\"Dallas\",\"Washington\",\"New York\",\"San Francisco\"])\n",
    "    w.grid(row=1,column=1)\n",
    "    Label(root,text='Enter Destination').grid(row=2,column=0)\n",
    "#e2=Entry(root,width=20,justify='right')\n",
    "#e2.grid(row=2,column=1)\n",
    "    w1=Combobox(root,height=5,width=15,values=[\"Dallas\",\"Washington\",\"New York\",\"San Francisco\"])\n",
    "    w1.grid(row=2,column=1)\n",
    "#e3=Entry(root,width=20,justify='right')\n",
    "#e3.grid(row=3,column=1)\n",
    "    Label(root,text='Enter last 4 digit of your Citizenship Number').grid(row=3,column=0)\n",
    "    e=Entry(root,width=20)\n",
    "    e.grid(row=3,column=1)\n",
    "    w2=Combobox(root,text='BusinessClass',height=5,width=15,values=[\"BusinessClass\",\"Economic\"])\n",
    "    w2.grid(row=4,column=1)\n",
    "    Label(root,text='Choose Class').grid(row=4,column=0)\n",
    "    Label(root,text=\"Choose day of travel\").grid(row=5,column=0)\n",
    "    w3=Combobox(root,text=\"choose day\",height=5,width=15,values=[\"sunday\",\"monday\",\"tuesday\",\"wensday\",\"thursday\",\"friday\",\"saturday\"])\n",
    "    w3.grid(row=5,column=1)\n",
    "    Label(root,text=\"choose time of your flight\").grid(row=6,column=0)\n",
    "    w4=Combobox(root,height=5,width=15,values=[\"1:00 AM\",\"7:00 AM\",\"1:00 PM\",\"4:00 PM\",\"9:00 PM\"])\n",
    "    w4.grid(row=6,column=1)\n",
    "    def fun():\n",
    "        a=w.get()\n",
    "        b=w1.get()\n",
    "        c=e.get()\n",
    "        d=w2.get()\n",
    "        f=w3.get()\n",
    "        g=w4.get()\n",
    "        x=(a,b,c,f,g)\n",
    "        cur=con.cursor()\n",
    "        \n",
    "        if a=='' or b=='' or c=='' or d=='' or f=='' or g=='':\n",
    "            tkMessageBox.showerror(\"OOPS\",\"you can't leave any field empty\")\n",
    "        else :\n",
    "            if d=='Economic':\n",
    "                \n",
    "                if a!=b:\n",
    "                    #cur.execute(\"create table economic2(boarding char(20),destination char(20),adno number,day char,time number)\")\n",
    "                    cur.execute(\"insert into economic2 values(?,?,?,?,?)\",x)\n",
    "                    tkMessageBox.showinfo(\"congrats\",\"your seat has been reserved\")\n",
    "                    con.commit()\n",
    "                    cur.execute(\"select * from economic2 where adno=(?)\",(c,))\n",
    "                    tkMessageBox.showinfo(\"records\",cur.fetchall())\n",
    "                else:\n",
    "                    tkMessageBox.showerror(\"Error\",\"you can't choose same city\")\n",
    "            if d=='BusinessClass':\n",
    "                #cur.execute(\"create table common2(boarding char(20),destination char(20),adno number,day char,time number)\")\n",
    "                if a!=b:\n",
    "                    cur.execute(\"insert into common2 values(?,?,?,?,?)\",x)\n",
    "                    tkMessageBox.showinfo(\"congrats\",\"your seat has been reserved\")\n",
    "                    con.commit()\n",
    "                    cur.execute(\"select * from common2 where adno=(?)\",(c,))\n",
    "                    tkMessageBox.showinfo(\"records\",cur.fetchall())\n",
    "                else :\n",
    "                    tkMessageBox.showerror(\"Error\",\"you can't choose same city\")\n",
    "    Bi=Button(root,text=\"Insert\",command=fun).grid(row=7,column=1)\n",
    "#Bo=Button(root,text=\"See Flights\",command=dis).grid(row=7,column=1)\n",
    "#Bf=Button(root,text='Set fair range',command=fun1).grid(row=7,column=2)\n",
    "    root.mainloop()\n"
   ]
  },
  {
   "cell_type": "code",
   "execution_count": 21,
   "metadata": {},
   "outputs": [
    {
     "name": "stderr",
     "output_type": "stream",
     "text": [
      "Exception in Tkinter callback\n",
      "Traceback (most recent call last):\n",
      "  File \"C:\\Users\\Shams\\AppData\\Local\\Continuum\\anaconda3\\lib\\tkinter\\__init__.py\", line 1705, in __call__\n",
      "    return self.func(*args)\n",
      "  File \"<ipython-input-19-65f3770687e8>\", line 8, in fun9\n",
      "    w1=Combobox(root4,height=5,width=15,values=[\"New York\",\"Chicago\",\"Dallas\",\"San Francisco\"])\n",
      "NameError: name 'Combobox' is not defined\n"
     ]
    }
   ],
   "source": [
    "    \n",
    "B1=Button(rootp,text=\"Cancel Booking\",command=fun8).pack()\n",
    "B2=Button(rootp,text=\"Search Flight\",command=fun9).pack()\n",
    "B3=Button(rootp,text=\"Book Flight\",command=fun5).pack()\n",
    "#B2=Button(rootp,text=\"Cancel Booking\",height=4,width=35,font=\"Bold\",bg=\"gray\").pack()\n",
    "#B3=Button(rootp,text=\"See flights\",height=4,width=35,font=\"Bold\",bg=\"gray\").pack()\n",
    "\n",
    "\n",
    "rootp.mainloop()"
   ]
  },
  {
   "cell_type": "code",
   "execution_count": null,
   "metadata": {},
   "outputs": [],
   "source": [
    "\n",
    "\n",
    "\n",
    "\n",
    "\n"
   ]
  }
 ],
 "metadata": {
  "kernelspec": {
   "display_name": "Python 3",
   "language": "python",
   "name": "python3"
  },
  "language_info": {
   "codemirror_mode": {
    "name": "ipython",
    "version": 3
   },
   "file_extension": ".py",
   "mimetype": "text/x-python",
   "name": "python",
   "nbconvert_exporter": "python",
   "pygments_lexer": "ipython3",
   "version": "3.7.1"
  }
 },
 "nbformat": 4,
 "nbformat_minor": 2
}
