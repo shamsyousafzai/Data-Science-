{
 "cells": [
  {
   "cell_type": "code",
   "execution_count": 6,
   "metadata": {},
   "outputs": [],
   "source": [
    "import pygame as p\n",
    "from pygame.locals import *"
   ]
  },
  {
   "cell_type": "code",
   "execution_count": 2,
   "metadata": {},
   "outputs": [],
   "source": [
    "p.init()\n",
    "gray=(119,118,110)\n",
    "display_width = 800\n",
    "display_height = 600"
   ]
  },
  {
   "cell_type": "code",
   "execution_count": 3,
   "metadata": {},
   "outputs": [],
   "source": [
    "gamedisplays = p.display.set_mode((display_width,display_height))\n",
    "p.display.set_caption(\"car game\")\n",
    "clock= p.time.Clock()\n",
    "carimg = p.image.load(\"car_6.PNG\")"
   ]
  },
  {
   "cell_type": "code",
   "execution_count": 7,
   "metadata": {},
   "outputs": [],
   "source": [
    "def car(x,y):\n",
    "    gamedisplays.blit(carimg,(x,y))"
   ]
  },
  {
   "cell_type": "code",
   "execution_count": null,
   "metadata": {},
   "outputs": [],
   "source": [
    "def game_loop():\n",
    "    x=(display_width*0.45)\n",
    "    y=(display_height*0.7)\n",
    "    bumped=False\n",
    "    while not bumped:\n",
    "        for event in p.event.get():\n",
    "            if event.type==p.QUIT:\n",
    "                bumped=True\n",
    "        gamedisplays.fill(gray)\n",
    "        car(x,y)\n",
    "        p.display.update()\n",
    "        clock.tick(60)\n",
    "game_loop()\n",
    "p.quit()\n",
    "quit()\n"
   ]
  },
  {
   "cell_type": "code",
   "execution_count": null,
   "metadata": {},
   "outputs": [],
   "source": []
  },
  {
   "cell_type": "code",
   "execution_count": null,
   "metadata": {},
   "outputs": [],
   "source": []
  }
 ],
 "metadata": {
  "kernelspec": {
   "display_name": "Python 3",
   "language": "python",
   "name": "python3"
  },
  "language_info": {
   "codemirror_mode": {
    "name": "ipython",
    "version": 3
   },
   "file_extension": ".py",
   "mimetype": "text/x-python",
   "name": "python",
   "nbconvert_exporter": "python",
   "pygments_lexer": "ipython3",
   "version": "3.7.1"
  }
 },
 "nbformat": 4,
 "nbformat_minor": 2
}
