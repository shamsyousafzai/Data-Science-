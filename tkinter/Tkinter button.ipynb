{
 "cells": [
  {
   "cell_type": "markdown",
   "metadata": {},
   "source": [
    "# Tkinter Button"
   ]
  },
  {
   "cell_type": "code",
   "execution_count": 5,
   "metadata": {},
   "outputs": [],
   "source": [
    "\n",
    "from tkinter import *\n",
    "\n",
    "class Window(Frame):\n",
    "\n",
    "\n",
    "    def __init__(self, master=None):\n",
    "        Frame.__init__(self, master)                 \n",
    "        self.master = master\n",
    "        self.init_window()\n",
    "\n",
    "    #Creation of init_window\n",
    "    def init_window(self):\n",
    "\n",
    "        # changing the title of our master widget      \n",
    "        self.master.title(\"GUI\")\n",
    "\n",
    "        # allowing the widget to take the full space of the root window\n",
    "        self.pack(fill=BOTH, expand=1)\n",
    "\n",
    "        # creating a button instance\n",
    "        quitButton = Button(self, text=\"Quit\")\n",
    "\n",
    "        # placing the button on my window\n",
    "        quitButton.place(x=0, y=0)\n",
    "\n",
    "root = Tk()\n",
    "\n",
    "#size of the window\n",
    "root.geometry(\"400x300\")\n",
    "\n",
    "app = Window(root)\n",
    "root.mainloop()  "
   ]
  },
  {
   "cell_type": "code",
   "execution_count": null,
   "metadata": {},
   "outputs": [],
   "source": []
  },
  {
   "cell_type": "code",
   "execution_count": null,
   "metadata": {},
   "outputs": [],
   "source": []
  }
 ],
 "metadata": {
  "kernelspec": {
   "display_name": "Python 3",
   "language": "python",
   "name": "python3"
  },
  "language_info": {
   "codemirror_mode": {
    "name": "ipython",
    "version": 3
   },
   "file_extension": ".py",
   "mimetype": "text/x-python",
   "name": "python",
   "nbconvert_exporter": "python",
   "pygments_lexer": "ipython3",
   "version": "3.7.1"
  }
 },
 "nbformat": 4,
 "nbformat_minor": 2
}
