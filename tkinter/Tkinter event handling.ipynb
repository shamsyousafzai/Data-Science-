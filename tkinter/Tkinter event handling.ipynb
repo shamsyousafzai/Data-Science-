{
 "cells": [
  {
   "cell_type": "markdown",
   "metadata": {},
   "source": [
    "# Tkinter event handling\n"
   ]
  },
  {
   "cell_type": "code",
   "execution_count": 7,
   "metadata": {},
   "outputs": [],
   "source": [
    "from tkinter import *\n",
    "\n",
    "\n",
    "# Here, we are creating our class, Window, and inheriting from the Frame\n",
    "# class. Frame is a class from the tkinter module. (see Lib/tkinter/__init__)\n",
    "class Window(Frame):\n",
    "\n",
    "    # Define settings upon initialization. Here you can specify\n",
    "    def __init__(self, master=None):\n",
    "        \n",
    "        # parameters that you want to send through the Frame class. \n",
    "        Frame.__init__(self, master)   \n",
    "\n",
    "        #reference to the master widget, which is the tk window                 \n",
    "        self.master = master\n",
    "\n",
    "        #with that, we want to then run init_window, which doesn't yet exist\n",
    "        self.init_window()\n",
    "\n",
    "    #Creation of init_window\n",
    "    def init_window(self):\n",
    "\n",
    "        # changing the title of our master widget      \n",
    "        self.master.title(\"GUI\")\n",
    "\n",
    "        # allowing the widget to take the full space of the root window\n",
    "        self.pack(fill=BOTH, expand=1)\n",
    "\n",
    "        # creating a button instance\n",
    "        quitButton = Button(self, text=\"Exit\",command=self.client_exit)\n",
    "\n",
    "        # placing the button on my window\n",
    "        quitButton.place(x=0, y=0)\n",
    "\n",
    "       \n",
    "\n",
    "    def client_exit(self):\n",
    "        exit()\n"
   ]
  },
  {
   "cell_type": "code",
   "execution_count": 8,
   "metadata": {},
   "outputs": [],
   "source": [
    "\n",
    "# root window created. Here, that would be the only window, but\n",
    "# you can later have windows within windows.\n",
    "root = Tk()\n",
    "\n",
    "root.geometry(\"400x300\")\n",
    "\n",
    "#creation of an instance\n",
    "app = Window(root)\n",
    "\n",
    "#mainloop \n",
    "root.mainloop()  "
   ]
  },
  {
   "cell_type": "code",
   "execution_count": null,
   "metadata": {},
   "outputs": [],
   "source": []
  }
 ],
 "metadata": {
  "kernelspec": {
   "display_name": "Python 3",
   "language": "python",
   "name": "python3"
  },
  "language_info": {
   "codemirror_mode": {
    "name": "ipython",
    "version": 3
   },
   "file_extension": ".py",
   "mimetype": "text/x-python",
   "name": "python",
   "nbconvert_exporter": "python",
   "pygments_lexer": "ipython3",
   "version": "3.7.1"
  }
 },
 "nbformat": 4,
 "nbformat_minor": 2
}
