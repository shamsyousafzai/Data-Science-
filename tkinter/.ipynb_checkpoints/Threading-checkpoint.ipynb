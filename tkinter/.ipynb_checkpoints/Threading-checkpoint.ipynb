{
 "cells": [
  {
   "cell_type": "code",
   "execution_count": 12,
   "metadata": {},
   "outputs": [],
   "source": [
    "import threading\n",
    "from queue import Queue\n",
    "import time"
   ]
  },
  {
   "cell_type": "code",
   "execution_count": 13,
   "metadata": {},
   "outputs": [],
   "source": [
    "print_lock = threading.Lock()"
   ]
  },
  {
   "cell_type": "code",
   "execution_count": 14,
   "metadata": {},
   "outputs": [],
   "source": [
    "def exampleJob(worker):\n",
    "    time.sleep(.5) # pretend to do some work.\n",
    "    with print_lock:\n",
    "        print(threading.current_thread().name,worker)"
   ]
  },
  {
   "cell_type": "code",
   "execution_count": 15,
   "metadata": {},
   "outputs": [],
   "source": [
    "# The threader thread pulls an worker from the queue and processes it\n",
    "def threader():\n",
    "    while True:\n",
    "        # gets an worker from the queue\n",
    "        worker = q.get()\n",
    "\n",
    "        # Run the example job with the avail worker in queue (thread)\n",
    "        exampleJob(worker)\n",
    "\n",
    "        # completed with the job\n",
    "        q.task_done()"
   ]
  },
  {
   "cell_type": "code",
   "execution_count": 16,
   "metadata": {},
   "outputs": [],
   "source": [
    "# Create the queue and threader \n",
    "q = Queue()"
   ]
  },
  {
   "cell_type": "code",
   "execution_count": 18,
   "metadata": {},
   "outputs": [
    {
     "name": "stdout",
     "output_type": "stream",
     "text": [
      "Thread-15 9\n",
      "Thread-6 0\n",
      "Thread-8 2\n",
      "Thread-7 1\n",
      "Thread-12 6\n",
      "Thread-11 5\n",
      "Thread-9 3\n",
      "Thread-10 4\n",
      "Thread-13 7\n",
      "Thread-14 8\n",
      "Thread-15 10\n",
      "Thread-6 11\n",
      "Thread-8 12\n",
      "Thread-7 13\n",
      "Thread-12 14\n",
      "Thread-11 15\n",
      "Thread-9 16\n",
      "Thread-10 17\n",
      "Thread-13 18\n",
      "Thread-14 19\n",
      "Entire job took: 1.1063733100891113\n"
     ]
    }
   ],
   "source": [
    "# The threader thread pulls an worker from the queue and processes it\n",
    "def threader():\n",
    "    while True:\n",
    "        # gets an worker from the queue\n",
    "        worker = q.get()\n",
    "\n",
    "        # Run the example job with the avail worker in queue (thread)\n",
    "        exampleJob(worker)\n",
    "\n",
    "        # completed with the job\n",
    "        q.task_done()\n",
    "\n",
    "# Create the queue and threader \n",
    "q = Queue()\n",
    "\n",
    "# how many threads are we going to allow for\n",
    "for x in range(10):\n",
    "     t = threading.Thread(target=threader)\n",
    "\n",
    "     # classifying as a daemon, so they will die when the main dies\n",
    "     t.daemon = True\n",
    "\n",
    "     # begins, must come after daemon definition\n",
    "     t.start()\n",
    "\n",
    "start = time.time()\n",
    "\n",
    "# 20 jobs assigned.\n",
    "for worker in range(20):\n",
    "    q.put(worker)\n",
    "\n",
    "# wait until the thread terminates.\n",
    "q.join()\n",
    "\n",
    "# with 10 workers and 20 tasks, with each task being .5 seconds, then the completed job\n",
    "# is ~1 second using threading. Normally 20 tasks with .5 seconds each would take 10 seconds.\n",
    "print('Entire job took:',time.time() - start)"
   ]
  },
  {
   "cell_type": "code",
   "execution_count": null,
   "metadata": {},
   "outputs": [],
   "source": []
  }
 ],
 "metadata": {
  "kernelspec": {
   "display_name": "Python 3",
   "language": "python",
   "name": "python3"
  },
  "language_info": {
   "codemirror_mode": {
    "name": "ipython",
    "version": 3
   },
   "file_extension": ".py",
   "mimetype": "text/x-python",
   "name": "python",
   "nbconvert_exporter": "python",
   "pygments_lexer": "ipython3",
   "version": "3.7.1"
  }
 },
 "nbformat": 4,
 "nbformat_minor": 2
}
