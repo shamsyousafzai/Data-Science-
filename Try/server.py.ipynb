{
 "cells": [
  {
   "cell_type": "code",
   "execution_count": null,
   "metadata": {},
   "outputs": [],
   "source": [
    "import socket\n",
    "import time\n",
    "import pickle\n",
    "\n",
    "\n",
    "HEADERSIZE = 10\n",
    "\n",
    "s = socket.socket(socket.AF_INET, socket.SOCK_STREAM)\n",
    "s.bind((socket.gethostname(), 1243))\n",
    "s.listen(5)\n",
    "\n",
    "while True:\n",
    "    # now our endpoint knows about the OTHER endpoint.\n",
    "    clientsocket, address = s.accept()\n",
    "    print(f\"Connection from {address} has been established.\")\n",
    "\n",
    "    d = {1:\"hi\", 2: \"there\"}\n",
    "    msg = pickle.dumps(d)\n",
    "    msg = bytes(f\"{len(msg):<{HEADERSIZE}}\", 'utf-8')+msg\n",
    "    print(msg)\n",
    "    clientsocket.send(msg)"
   ]
  },
  {
   "cell_type": "code",
   "execution_count": null,
   "metadata": {},
   "outputs": [],
   "source": []
  }
 ],
 "metadata": {
  "kernelspec": {
   "display_name": "Python 3",
   "language": "python",
   "name": "python3"
  },
  "language_info": {
   "codemirror_mode": {
    "name": "ipython",
    "version": 3
   },
   "file_extension": ".py",
   "mimetype": "text/x-python",
   "name": "python",
   "nbconvert_exporter": "python",
   "pygments_lexer": "ipython3",
   "version": "3.7.1"
  }
 },
 "nbformat": 4,
 "nbformat_minor": 2
}
