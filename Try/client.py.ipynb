{
 "cells": [
  {
   "cell_type": "code",
   "execution_count": null,
   "metadata": {},
   "outputs": [],
   "source": [
    "\n",
    "import socket\n",
    "import pickle\n",
    "\n",
    "HEADERSIZE = 10\n",
    "\n",
    "s = socket.socket(socket.AF_INET, socket.SOCK_STREAM)\n",
    "s.connect((socket.gethostname(), 1243))\n",
    "\n",
    "while True:\n",
    "    full_msg = b''\n",
    "    new_msg = True\n",
    "    while True:\n",
    "        msg = s.recv(16)\n",
    "        if new_msg:\n",
    "            print(\"new msg len:\",msg[:HEADERSIZE])\n",
    "            msglen = int(msg[:HEADERSIZE])\n",
    "            new_msg = False\n",
    "\n",
    "        print(f\"full message length: {msglen}\")\n",
    "\n",
    "        full_msg += msg\n",
    "\n",
    "        print(len(full_msg))\n",
    "\n",
    "        if len(full_msg)-HEADERSIZE == msglen:\n",
    "            print(\"full msg recvd\")\n",
    "            print(full_msg[HEADERSIZE:])\n",
    "            print(pickle.loads(full_msg[HEADERSIZE:]))\n",
    "            new_msg = True\n",
    "            full_msg = b\"\""
   ]
  },
  {
   "cell_type": "code",
   "execution_count": null,
   "metadata": {},
   "outputs": [],
   "source": []
  }
 ],
 "metadata": {
  "kernelspec": {
   "display_name": "Python 3",
   "language": "python",
   "name": "python3"
  },
  "language_info": {
   "codemirror_mode": {
    "name": "ipython",
    "version": 3
   },
   "file_extension": ".py",
   "mimetype": "text/x-python",
   "name": "python",
   "nbconvert_exporter": "python",
   "pygments_lexer": "ipython3",
   "version": "3.7.1"
  }
 },
 "nbformat": 4,
 "nbformat_minor": 2
}
