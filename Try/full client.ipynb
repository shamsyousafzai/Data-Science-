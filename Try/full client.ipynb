{
 "cells": [
  {
   "cell_type": "code",
   "execution_count": 1,
   "metadata": {},
   "outputs": [
    {
     "name": "stdout",
     "output_type": "stream",
     "text": [
      "Username: hi\n"
     ]
    },
    {
     "ename": "ConnectionRefusedError",
     "evalue": "[WinError 10061] No connection could be made because the target machine actively refused it",
     "output_type": "error",
     "traceback": [
      "\u001b[1;31m---------------------------------------------------------------------------\u001b[0m",
      "\u001b[1;31mConnectionRefusedError\u001b[0m                    Traceback (most recent call last)",
      "\u001b[1;32m<ipython-input-1-67e25bd48a14>\u001b[0m in \u001b[0;36m<module>\u001b[1;34m\u001b[0m\n\u001b[0;32m     15\u001b[0m \u001b[1;33m\u001b[0m\u001b[0m\n\u001b[0;32m     16\u001b[0m \u001b[1;31m# Connect to a given ip and port\u001b[0m\u001b[1;33m\u001b[0m\u001b[1;33m\u001b[0m\u001b[1;33m\u001b[0m\u001b[0m\n\u001b[1;32m---> 17\u001b[1;33m \u001b[0mclient_socket\u001b[0m\u001b[1;33m.\u001b[0m\u001b[0mconnect\u001b[0m\u001b[1;33m(\u001b[0m\u001b[1;33m(\u001b[0m\u001b[0mIP\u001b[0m\u001b[1;33m,\u001b[0m \u001b[0mPORT\u001b[0m\u001b[1;33m)\u001b[0m\u001b[1;33m)\u001b[0m\u001b[1;33m\u001b[0m\u001b[1;33m\u001b[0m\u001b[0m\n\u001b[0m\u001b[0;32m     18\u001b[0m \u001b[1;33m\u001b[0m\u001b[0m\n\u001b[0;32m     19\u001b[0m \u001b[1;31m# Set connection to non-blocking state, so .recv() call won;t block, just return some exception we'll handle\u001b[0m\u001b[1;33m\u001b[0m\u001b[1;33m\u001b[0m\u001b[1;33m\u001b[0m\u001b[0m\n",
      "\u001b[1;31mConnectionRefusedError\u001b[0m: [WinError 10061] No connection could be made because the target machine actively refused it"
     ]
    }
   ],
   "source": [
    "import socket\n",
    "import select\n",
    "import errno\n",
    "\n",
    "HEADER_LENGTH = 10\n",
    "\n",
    "IP = \"192.168.10.25\"\n",
    "PORT = 8890\n",
    "my_username = input(\"Username: \")\n",
    "\n",
    "# Create a socket\n",
    "# socket.AF_INET - address family, IPv4, some otehr possible are AF_INET6, AF_BLUETOOTH, AF_UNIX\n",
    "# socket.SOCK_STREAM - TCP, conection-based, socket.SOCK_DGRAM - UDP, connectionless, datagrams, socket.SOCK_RAW - raw IP packets\n",
    "client_socket = socket.socket(socket.AF_INET, socket.SOCK_STREAM)\n",
    "\n",
    "# Connect to a given ip and port\n",
    "client_socket.connect((IP, PORT))\n",
    "\n",
    "# Set connection to non-blocking state, so .recv() call won;t block, just return some exception we'll handle\n",
    "client_socket.setblocking(False)\n",
    "\n",
    "# Prepare username and header and send them\n",
    "# We need to encode username to bytes, then count number of bytes and prepare header of fixed size, that we encode to bytes as well\n",
    "username = my_username.encode('utf-8')\n",
    "username_header = f\"{len(username):<{HEADER_LENGTH}}\".encode('utf-8')\n",
    "client_socket.send(username_header + username)\n",
    "\n",
    "while True:\n",
    "\n",
    "    # Wait for user to input a message\n",
    "    message = input(f'{my_username} > ')\n",
    "\n",
    "    # If message is not empty - send it\n",
    "    if message:\n",
    "\n",
    "        # Encode message to bytes, prepare header and convert to bytes, like for username above, then send\n",
    "        message = message.encode('utf-8')\n",
    "        message_header = f\"{len(message):<{HEADER_LENGTH}}\".encode('utf-8')\n",
    "        client_socket.send(message_header + message)\n",
    "\n",
    "    try:\n",
    "        # Now we want to loop over received messages (there might be more than one) and print them\n",
    "        while True:\n",
    "\n",
    "            # Receive our \"header\" containing username length, it's size is defined and constant\n",
    "            username_header = client_socket.recv(HEADER_LENGTH)\n",
    "\n",
    "            # If we received no data, server gracefully closed a connection, for example using socket.close() or socket.shutdown(socket.SHUT_RDWR)\n",
    "            if not len(username_header):\n",
    "                print('Connection closed by the server')\n",
    "                sys.exit()\n",
    "\n",
    "            # Convert header to int value\n",
    "            username_length = int(username_header.decode('utf-8').strip())\n",
    "\n",
    "            # Receive and decode username\n",
    "            username = client_socket.recv(username_length).decode('utf-8')\n",
    "\n",
    "            # Now do the same for message (as we received username, we received whole message, there's no need to check if it has any length)\n",
    "            message_header = client_socket.recv(HEADER_LENGTH)\n",
    "            message_length = int(message_header.decode('utf-8').strip())\n",
    "            message = client_socket.recv(message_length).decode('utf-8')\n",
    "\n",
    "            # Print message\n",
    "            print(f'{username} > {message}')\n",
    "\n",
    "    except IOError as e:\n",
    "        # This is normal on non blocking connections - when there are no incoming data error is going to be raised\n",
    "        # Some operating systems will indicate that using AGAIN, and some using WOULDBLOCK error code\n",
    "        # We are going to check for both - if one of them - that's expected, means no incoming data, continue as normal\n",
    "        # If we got different error code - something happened\n",
    "        if e.errno != errno.EAGAIN and e.errno != errno.EWOULDBLOCK:\n",
    "            print('Reading error: {}'.format(str(e)))\n",
    "            sys.exit()\n",
    "\n",
    "        # We just did not receive anything\n",
    "        continue\n",
    "\n",
    "    except Exception as e:\n",
    "        # Any other exception - something happened, exit\n",
    "        print('Reading error: '.format(str(e)))\n",
    "        sys.exit()"
   ]
  },
  {
   "cell_type": "code",
   "execution_count": null,
   "metadata": {},
   "outputs": [],
   "source": []
  },
  {
   "cell_type": "code",
   "execution_count": null,
   "metadata": {},
   "outputs": [],
   "source": []
  }
 ],
 "metadata": {
  "kernelspec": {
   "display_name": "Python 3",
   "language": "python",
   "name": "python3"
  },
  "language_info": {
   "codemirror_mode": {
    "name": "ipython",
    "version": 3
   },
   "file_extension": ".py",
   "mimetype": "text/x-python",
   "name": "python",
   "nbconvert_exporter": "python",
   "pygments_lexer": "ipython3",
   "version": "3.7.1"
  }
 },
 "nbformat": 4,
 "nbformat_minor": 2
}
