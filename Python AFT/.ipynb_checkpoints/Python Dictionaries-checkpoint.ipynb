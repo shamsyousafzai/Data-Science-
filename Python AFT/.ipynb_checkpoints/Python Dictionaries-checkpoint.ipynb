{
 "cells": [
  {
   "cell_type": "markdown",
   "metadata": {},
   "source": [
    "# Python Dictionaries"
   ]
  },
  {
   "cell_type": "code",
   "execution_count": 2,
   "metadata": {},
   "outputs": [
    {
     "data": {
      "text/plain": [
       "{}"
      ]
     },
     "execution_count": 2,
     "metadata": {},
     "output_type": "execute_result"
    }
   ],
   "source": [
    "phonebook = {}\n",
    "phonebook"
   ]
  },
  {
   "cell_type": "code",
   "execution_count": 3,
   "metadata": {},
   "outputs": [
    {
     "name": "stdout",
     "output_type": "stream",
     "text": [
      "{'ali': 9292399339, 'Iqbal': 92338383, 'zohaib': 93393928}\n"
     ]
    }
   ],
   "source": [
    "phonebook[\"ali\"] = 9292399339\n",
    "phonebook[\"Iqbal\"] = 92338383\n",
    "phonebook[\"zohaib\"] =  93393928\n",
    "print(phonebook)"
   ]
  },
  {
   "cell_type": "code",
   "execution_count": 4,
   "metadata": {},
   "outputs": [
    {
     "name": "stdout",
     "output_type": "stream",
     "text": [
      "ali is in list\n"
     ]
    }
   ],
   "source": [
    "# condition\n",
    "if \"ali\" in phonebook:\n",
    "    print(\"ali is in list\")\n",
    "else:\n",
    "    print(\"ali is not in list\")"
   ]
  },
  {
   "cell_type": "code",
   "execution_count": 9,
   "metadata": {},
   "outputs": [
    {
     "name": "stdout",
     "output_type": "stream",
     "text": [
      "{'child1': {'name': 'Emil', 'year': 2004}, 'child2': {'name': 'Tobias', 'year': 2007}, 'child3': {'name': 'Linus', 'year': 2011}}\n"
     ]
    }
   ],
   "source": [
    "# multiple dictionaries in a dictionary\n",
    "student1 = {\n",
    "  \"name\" : \"sara\",\n",
    "  \"id\" : 123\n",
    "}\n",
    "student2 = {\n",
    "  \"name\" : \"sehar\",\n",
    "  \"id\" : 234\n",
    "}\n",
    "student3 = {\n",
    "  \"name\" : \"Ali\",\n",
    "  \"id\" : 345\n",
    "}\n",
    "\n",
    "myclass = {\n",
    "  \"student1\" : student1,\n",
    "  \"student2\" : student2,\n",
    "  \"student3\" : student3,\n",
    "}\n",
    "\n",
    "print(myfamily)"
   ]
  },
  {
   "cell_type": "code",
   "execution_count": 27,
   "metadata": {},
   "outputs": [
    {
     "data": {
      "text/plain": [
       "{'student1': {'name': 'sara', 'id': 123},\n",
       " 'student2': {'name': 'sehar', 'id': 234},\n",
       " 'student3': {'name': 'Ali', 'id': 345}}"
      ]
     },
     "execution_count": 27,
     "metadata": {},
     "output_type": "execute_result"
    }
   ],
   "source": [
    "myclass"
   ]
  },
  {
   "cell_type": "code",
   "execution_count": 32,
   "metadata": {},
   "outputs": [],
   "source": [
    "# multilple dictionaries in a list\n",
    "customers = [\n",
    "    {\n",
    "        \"customer id\": 0,\n",
    "        \"first name\":\"John\",\n",
    "    },\n",
    "    {\n",
    "        \"customer id\": 1,\n",
    "        \"first name\":\"Ann\",\n",
    "    },\n",
    "    {\n",
    "        \"customer id\": 2,\n",
    "        \"first name\":\"Jill\"}\n",
    "]"
   ]
  },
  {
   "cell_type": "code",
   "execution_count": 33,
   "metadata": {},
   "outputs": [
    {
     "data": {
      "text/plain": [
       "[{'customer id': 0, 'first name': 'John'},\n",
       " {'customer id': 1, 'first name': 'Ann'},\n",
       " {'customer id': 2, 'first name': 'Jill'}]"
      ]
     },
     "execution_count": 33,
     "metadata": {},
     "output_type": "execute_result"
    }
   ],
   "source": [
    "customers"
   ]
  },
  {
   "cell_type": "code",
   "execution_count": 34,
   "metadata": {},
   "outputs": [],
   "source": [
    "# conjuct a dictionary to another \n",
    "customers.append(myclass)"
   ]
  },
  {
   "cell_type": "code",
   "execution_count": null,
   "metadata": {},
   "outputs": [],
   "source": []
  },
  {
   "cell_type": "code",
   "execution_count": null,
   "metadata": {},
   "outputs": [],
   "source": []
  }
 ],
 "metadata": {
  "kernelspec": {
   "display_name": "Python 3",
   "language": "python",
   "name": "python3"
  },
  "language_info": {
   "codemirror_mode": {
    "name": "ipython",
    "version": 3
   },
   "file_extension": ".py",
   "mimetype": "text/x-python",
   "name": "python",
   "nbconvert_exporter": "python",
   "pygments_lexer": "ipython3",
   "version": "3.7.1"
  }
 },
 "nbformat": 4,
 "nbformat_minor": 2
}
